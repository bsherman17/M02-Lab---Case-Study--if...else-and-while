{
 "cells": [
  {
   "cell_type": "code",
   "execution_count": 1,
   "id": "7a9d24e7",
   "metadata": {},
   "outputs": [
    {
     "name": "stdout",
     "output_type": "stream",
     "text": [
      "Enter the student's last name (Enter 'ZZZ' to quit): Sherman\n",
      "Enter the student's first name: Brayden\n",
      "Enter the student's GPA: 3.8\n",
      "Brayden Sherman has made the Dean's List.\n",
      "Enter the student's last name (Enter 'ZZZ' to quit): Sherman\n",
      "Enter the student's first name: Brayden\n",
      "Enter the student's GPA: 3.4\n",
      "Brayden Sherman has made the Honor Roll.\n",
      "Enter the student's last name (Enter 'ZZZ' to quit): Sherman\n",
      "Enter the student's first name: Brayden\n",
      "Enter the student's GPA: 3.0\n",
      "Brayden Sherman did not make the Dean's List or Honor Roll.\n",
      "Enter the student's last name (Enter 'ZZZ' to quit): zzz\n",
      "Thank you for using the Student Qualification Checker.\n"
     ]
    }
   ],
   "source": [
    "\"\"\"\n",
    "Name: Brayden Sherman\n",
    "File Name: student_qualification_checker.py\n",
    "Description: Accepts student names and GPAs, and checks if the student qualifies for the Dean's List or the Honor Roll.\n",
    "\"\"\"\n",
    "\n",
    "while True:\n",
    "    # Ask for and accept a student's last name\n",
    "    last_name = input(\"Enter the student's last name (Enter 'ZZZ' to quit): \")\n",
    "    \n",
    "    # Quit the program\n",
    "    if last_name.upper() == 'ZZZ':\n",
    "        break\n",
    "\n",
    "    # Ask for and accept a student's first name\n",
    "    first_name = input(\"Enter the student's first name: \")\n",
    "\n",
    "    # Ask for and accept the student's GPA as a float\n",
    "    try:\n",
    "        gpa = float(input(\"Enter the student's GPA: \"))\n",
    "    except ValueError:\n",
    "        print(\"Please enter a valid number for the GPA.\")\n",
    "        continue\n",
    "\n",
    "    # Test if the student's GPA is 3.5 or greater\n",
    "    if gpa >= 3.5:\n",
    "        print(f\"{first_name} {last_name} has made the Dean's List.\")\n",
    "    # Test if the student's GPA is 3.25 or greater\n",
    "    elif gpa >= 3.25:\n",
    "        print(f\"{first_name} {last_name} has made the Honor Roll.\")\n",
    "    else:\n",
    "        print(f\"{first_name} {last_name} did not make the Dean's List or Honor Roll.\")\n",
    "\n",
    "print(\"Thank you for using the Student Qualification Checker.\")\n"
   ]
  },
  {
   "cell_type": "code",
   "execution_count": null,
   "id": "4399bf93",
   "metadata": {},
   "outputs": [],
   "source": []
  }
 ],
 "metadata": {
  "kernelspec": {
   "display_name": "Python 3 (ipykernel)",
   "language": "python",
   "name": "python3"
  },
  "language_info": {
   "codemirror_mode": {
    "name": "ipython",
    "version": 3
   },
   "file_extension": ".py",
   "mimetype": "text/x-python",
   "name": "python",
   "nbconvert_exporter": "python",
   "pygments_lexer": "ipython3",
   "version": "3.10.9"
  }
 },
 "nbformat": 4,
 "nbformat_minor": 5
}
